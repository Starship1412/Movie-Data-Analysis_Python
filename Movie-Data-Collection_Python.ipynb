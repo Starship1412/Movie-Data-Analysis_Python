{
 "cells": [
  {
   "cell_type": "markdown",
   "metadata": {},
   "source": [
    "# COMP47670 Assignment 1- Task 1"
   ]
  },
  {
   "cell_type": "markdown",
   "metadata": {},
   "source": [
    "Student number: 21211870"
   ]
  },
  {
   "cell_type": "markdown",
   "metadata": {},
   "source": [
    "The name of the web API: The Movie DB (TMDB) [Free version]"
   ]
  },
  {
   "cell_type": "markdown",
   "metadata": {},
   "source": [
    "## Extract and save raw data"
   ]
  },
  {
   "cell_type": "code",
   "execution_count": 1,
   "metadata": {},
   "outputs": [],
   "source": [
    "import json, requests, urllib\n",
    "from pathlib import Path\n",
    "from datetime import datetime\n",
    "import pandas as pd\n",
    "import matplotlib\n",
    "import matplotlib.pyplot as plt\n",
    "import csv\n",
    "%matplotlib inline"
   ]
  },
  {
   "cell_type": "markdown",
   "metadata": {},
   "source": [
    "Identify the suitable API. Here is the Example API Request: https://api.themoviedb.org/3/movie/550?api_key=344e4b53da3f5a45cca1b49bf5ea9532"
   ]
  },
  {
   "cell_type": "code",
   "execution_count": 2,
   "metadata": {},
   "outputs": [],
   "source": [
    "# API Key \n",
    "api_key = \"344e4b53da3f5a45cca1b49bf5ea9532\"\n",
    "# Prefix for API URLs\n",
    "url_movie_prefix = 'https://api.themoviedb.org/3/movie/'"
   ]
  },
  {
   "cell_type": "markdown",
   "metadata": {},
   "source": [
    "Create directory for raw data storage, if it does not already exist:"
   ]
  },
  {
   "cell_type": "code",
   "execution_count": 3,
   "metadata": {},
   "outputs": [],
   "source": [
    "dir_raw = Path(\"raw\")\n",
    "dir_raw.mkdir(parents=True, exist_ok=True)"
   ]
  },
  {
   "cell_type": "markdown",
   "metadata": {},
   "source": [
    "Define a convenience function for retrieving data from the Movie API:"
   ]
  },
  {
   "cell_type": "code",
   "execution_count": 4,
   "metadata": {},
   "outputs": [],
   "source": [
    "def fetch(movie_number):\n",
    "    # construct the url\n",
    "    movie_number_str = str(movie_number)\n",
    "    url = \"%s%s?api_key=%s\" % (url_movie_prefix, movie_number_str, api_key)\n",
    "    # fetch the page\n",
    "    response = requests.get(url)\n",
    "    if(response.status_code == 200):\n",
    "        raw_json = response.text\n",
    "        movie_data_individual = json.loads(raw_json)\n",
    "        if 'success' in movie_data_individual.keys():\n",
    "            return ''\n",
    "        return movie_data_individual\n",
    "    return ''"
   ]
  },
  {
   "cell_type": "markdown",
   "metadata": {},
   "source": [
    "Collect large amounts of valid data, clean data and choose fields that will be analyzed."
   ]
  },
  {
   "cell_type": "code",
   "execution_count": 5,
   "metadata": {},
   "outputs": [],
   "source": [
    "movie_data = []\n",
    "for row in range(0,3000):\n",
    "    movie = fetch(row)\n",
    "    if movie != '':\n",
    "        genres = [genre[\"name\"] for genre in movie[\"genres\"]]\n",
    "        production_countries = [country[\"name\"] for country in movie[\"production_countries\"]]\n",
    "        spoken_languages = [language[\"english_name\"] for language in movie[\"spoken_languages\"]]\n",
    "        movie_data.append({\n",
    "            \"budget\": movie[\"budget\"],\n",
    "            \"genres\": \",\".join(genres),\n",
    "            \"original_language\": movie[\"original_language\"],\n",
    "            \"popularity\": movie[\"popularity\"],\n",
    "            \"production_countries\": \",\".join(production_countries),\n",
    "            \"release_date\": movie[\"release_date\"],\n",
    "            \"revenue\": movie[\"revenue\"],\n",
    "            \"runtime\": movie[\"runtime\"],\n",
    "            \"spoken_languages\": \",\".join(spoken_languages),\n",
    "            \"vote_average\": movie[\"vote_average\"],\n",
    "            \"vote_count\": movie[\"vote_count\"]\n",
    "        })"
   ]
  },
  {
   "cell_type": "markdown",
   "metadata": {},
   "source": [
    "Generate csv file."
   ]
  },
  {
   "cell_type": "code",
   "execution_count": 6,
   "metadata": {},
   "outputs": [],
   "source": [
    "# open the output file for writing\n",
    "fout = open(\"movies_raw.csv\", \"w\")\n",
    "# specify the ordered list of fields in our movie data\n",
    "fields = ['budget','genres','original_language','popularity','production_countries',\n",
    "          'release_date','revenue','runtime','spoken_languages','vote_average','vote_count']\n",
    "writer = csv.DictWriter(fout, fieldnames=fields)\n",
    "# write the header row\n",
    "writer.writeheader()\n",
    "# write each row of data\n",
    "for movie in movie_data:\n",
    "    writer.writerow(movie)\n",
    "fout.close()"
   ]
  }
 ],
 "metadata": {
  "kernelspec": {
   "display_name": "Python 3 (ipykernel)",
   "language": "python",
   "name": "python3"
  },
  "language_info": {
   "codemirror_mode": {
    "name": "ipython",
    "version": 3
   },
   "file_extension": ".py",
   "mimetype": "text/x-python",
   "name": "python",
   "nbconvert_exporter": "python",
   "pygments_lexer": "ipython3",
   "version": "3.9.13"
  }
 },
 "nbformat": 4,
 "nbformat_minor": 1
}
